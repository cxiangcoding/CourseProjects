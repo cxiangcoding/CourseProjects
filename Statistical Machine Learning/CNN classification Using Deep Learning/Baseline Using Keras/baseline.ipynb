{
    "metadata": {
        "kernelspec": {
            "name": "python3",
            "display_name": "Python 3 (ipykernel)",
            "language": "python"
        }
    },
    "nbformat": 4,
    "nbformat_minor": 2,
    "cells": [
        {
            "cell_type": "code",
            "execution_count": 2,
            "metadata": {},
            "outputs": [],
            "source": [
                "batch_size = 64\n",
                "num_classes = 10\n",
                "epochs = 12"
            ]
        },
        {
            "cell_type": "code",
            "execution_count": 1,
            "metadata": {},
            "outputs": [
                {
                    "name": "stderr",
                    "output_type": "stream",
                    "text": "2024-02-16 18:55:00.957828: I tensorflow/core/platform/cpu_feature_guard.cc:182] This TensorFlow binary is optimized to use available CPU instructions in performance-critical operations.\nTo enable the following instructions: SSE3 SSE4.1 SSE4.2 AVX AVX2 FMA, in other operations, rebuild TensorFlow with the appropriate compiler flags.\n"
                }
            ],
            "source": [
                "import warnings\n",
                "warnings.filterwarnings(\"ignore\")\n",
                "import keras\n",
                "from keras.datasets import mnist\n",
                "from keras.models import Sequential\n",
                "from keras.layers import Dense, Dropout, Flatten\n",
                "from keras.layers import Conv2D, MaxPooling2D\n",
                "from keras import backend as K\n",
                "import tensorflow as tf\n",
                ""
            ]
        },
        {
            "cell_type": "code",
            "execution_count": 3,
            "metadata": {},
            "outputs": [
                {
                    "name": "stdout",
                    "output_type": "stream",
                    "text": "x_train shape: (60000, 28, 28, 1)\n60000 train samples\n10000 test samples\nEpoch 1/12\n938/938 - 4s - loss: 0.5744 - accuracy: 0.8340 - val_loss: 0.1923 - val_accuracy: 0.9402 - 4s/epoch - 4ms/step\nEpoch 2/12\n938/938 - 3s - loss: 0.1795 - accuracy: 0.9459 - val_loss: 0.1496 - val_accuracy: 0.9551 - 3s/epoch - 4ms/step\nEpoch 3/12\n938/938 - 3s - loss: 0.1387 - accuracy: 0.9584 - val_loss: 0.1143 - val_accuracy: 0.9637 - 3s/epoch - 4ms/step\nEpoch 4/12\n938/938 - 3s - loss: 0.1147 - accuracy: 0.9654 - val_loss: 0.0970 - val_accuracy: 0.9694 - 3s/epoch - 3ms/step\nEpoch 5/12\n938/938 - 3s - loss: 0.0995 - accuracy: 0.9697 - val_loss: 0.0923 - val_accuracy: 0.9707 - 3s/epoch - 4ms/step\nEpoch 6/12\n938/938 - 4s - loss: 0.0893 - accuracy: 0.9735 - val_loss: 0.0890 - val_accuracy: 0.9712 - 4s/epoch - 4ms/step\nEpoch 7/12\n938/938 - 3s - loss: 0.0805 - accuracy: 0.9759 - val_loss: 0.0720 - val_accuracy: 0.9781 - 3s/epoch - 3ms/step\nEpoch 8/12\n938/938 - 3s - loss: 0.0749 - accuracy: 0.9781 - val_loss: 0.0669 - val_accuracy: 0.9776 - 3s/epoch - 4ms/step\nEpoch 9/12\n938/938 - 3s - loss: 0.0692 - accuracy: 0.9790 - val_loss: 0.0637 - val_accuracy: 0.9787 - 3s/epoch - 3ms/step\nEpoch 10/12\n938/938 - 3s - loss: 0.0652 - accuracy: 0.9808 - val_loss: 0.0607 - val_accuracy: 0.9798 - 3s/epoch - 4ms/step\nEpoch 11/12\n938/938 - 4s - loss: 0.0615 - accuracy: 0.9814 - val_loss: 0.0553 - val_accuracy: 0.9820 - 4s/epoch - 5ms/step\nEpoch 12/12\n938/938 - 3s - loss: 0.0580 - accuracy: 0.9826 - val_loss: 0.0585 - val_accuracy: 0.9806 - 3s/epoch - 3ms/step\nTest loss: 0.058470722287893295\nTest accuracy: 0.9805999994277954\n"
                },
                {
                    "name": "stderr",
                    "output_type": "stream",
                    "text": "2024-02-16 18:55:02.397500: I tensorflow/core/common_runtime/process_util.cc:146] Creating new thread pool with default inter op setting: 2. Tune using inter_op_parallelism_threads for best performance.\n"
                }
            ],
            "source": [
                "# input image dimensions\n",
                "img_rows, img_cols = 28, 28\n",
                "\n",
                "# the data, split between train and test sets\n",
                "(x_train, y_train), (x_test, y_test)=tf.keras.datasets.mnist.load_data('/home/mnist.npz')\n",
                "\n",
                "if K.image_data_format() == 'channels_first':\n",
                "    x_train = x_train.reshape(x_train.shape[0], 1, img_rows, img_cols)\n",
                "    x_test = x_test.reshape(x_test.shape[0], 1, img_rows, img_cols)\n",
                "    input_shape = (1, img_rows, img_cols)\n",
                "else:\n",
                "    x_train = x_train.reshape(x_train.shape[0], img_rows, img_cols, 1)\n",
                "    x_test = x_test.reshape(x_test.shape[0], img_rows, img_cols, 1)\n",
                "    input_shape = (img_rows, img_cols, 1)\n",
                "\n",
                "x_train = x_train.astype('float32')\n",
                "x_test = x_test.astype('float32')\n",
                "x_train /= 255\n",
                "x_test /= 255\n",
                "print('x_train shape:', x_train.shape)\n",
                "print(x_train.shape[0], 'train samples')\n",
                "print(x_test.shape[0], 'test samples')\n",
                "# convert class vectors to binary class matrices\n",
                "y_train = keras.utils.to_categorical(y_train, num_classes)\n",
                "y_test = keras.utils.to_categorical(y_test, num_classes)\n",
                "\n",
                "model = Sequential()\n",
                "model.add(Conv2D(6, kernel_size=(3, 3),\n",
                "                 activation='relu',\n",
                "                 input_shape=input_shape))\n",
                "model.add(MaxPooling2D(pool_size=(2, 2)))\n",
                "model.add(Conv2D(16, (3, 3), activation='relu'))\n",
                "model.add(MaxPooling2D(pool_size=(2, 2)))\n",
                "model.add(Flatten())\n",
                "model.add(Dense(120, activation='relu'))\n",
                "model.add(Dense(84, activation='relu'))\n",
                "\n",
                "model.add(Dense(num_classes, activation='softmax'))\n",
                "\n",
                "# https://keras.io/optimizers/ \n",
                "model.compile(loss=keras.losses.categorical_crossentropy,\n",
                "              optimizer=tf.keras.optimizers.legacy.Adadelta(lr=0.1, rho=0.95, epsilon=None, decay=0.0),\n",
                "              metrics=['accuracy'])\n",
                "\n",
                "model.fit(x_train, y_train,\n",
                "          batch_size=batch_size,\n",
                "          epochs=epochs,\n",
                "          verbose=2,\n",
                "          validation_data=(x_test, y_test))\n",
                "score = model.evaluate(x_test, y_test, verbose=0)\n",
                "print('Test loss:', score[0])\n",
                "print('Test accuracy:', score[1])"
            ]
        }
    ]
}
